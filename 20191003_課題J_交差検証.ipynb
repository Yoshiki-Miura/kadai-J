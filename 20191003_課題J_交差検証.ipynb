{
 "cells": [
  {
   "cell_type": "markdown",
   "metadata": {},
   "source": [
    "# Read Me\n",
    "このノートブックでは交差検証について学びます。"
   ]
  },
  {
   "cell_type": "markdown",
   "metadata": {},
   "source": [
    "# 課題J-1: 交差検証\n",
    "## 交差検証のアルゴリズム\n",
    "\n",
    "1. データを分割して\n",
    "2. 「一部のデータ」に分析手法を使って（訓練）\n",
    "3. 残った部分でその分析手法の「良さ」を評価する（テスト）\n",
    "4. 「一部のデータ」をいろいろ動かして２と３を繰り返す\n",
    "5. 複数回行ったテスト結果をもとに、分析手法の「良さ」を評価する\n",
    "\n",
    "<br>\n",
    "\n",
    "<例>  \n",
    "\n",
    "1. データを赤、青、緑の３グループに分割してみる。\n",
    "\n",
    "![](https://mathwords.net/wp-content/uploads/2017/04/kousakakunin1-300x211.png)\n",
    "\n",
    "2. 赤、青に特定の分析手法（最小二乗法など）を使って、データを表す直線（回帰式）を引く。\n",
    "\n",
    "<br>\n",
    "\n",
    "\n",
    "3. 緑が回帰式でどれくらい説明できているのかを評価する。例えば、緑が直線からどれくらい離れているのかを二乗誤差などで評価する。この誤差をegとする。\n",
    "\n",
    "<br>\n",
    "\n",
    "4. 同様に、赤と緑で回帰式を新たに作って、それを青で評価したときの誤差をeb、青と緑で回帰式を新たに作って、それを赤で評価したときの誤差を erとする。\n",
    "\n",
    "<br>\n",
    "\n",
    "5. 「全体の誤差」として、例えば、誤差の平均$e = \\frac{1}{3}(eg+eb+er)$を計算する。eが小さいほど「回帰式の作り方が良い」（汎化性能が高いモデルを作成する分析手法である）と考えることができる。\n",
    "\n",
    "## ホールドアウトとの違い\n",
    "\n",
    "<br>\n",
    "\n",
    "交差検定とホールドアウト法を比べた場合、交差検定の方がより評価結果の信頼が高くなる。なぜならデータを交差して評価するという事を繰り返し、平均化しているので、たまたまテストデータに特定のデータが偏っているという事がないためである。\n",
    "\n",
    "## メリット・デメリット\n",
    "\n",
    "<br>\n",
    "\n",
    "- メリット: 評価結果の信頼性が高い\n",
    "- デメリット: 多くのテストを必要とするため、時間がかかる\n",
    "\n"
   ]
  },
  {
   "cell_type": "markdown",
   "metadata": {},
   "source": [
    "## 実際のデータに対してのKFoldの実装"
   ]
  },
  {
   "cell_type": "markdown",
   "metadata": {},
   "source": [
    "データの準備"
   ]
  },
  {
   "cell_type": "code",
   "execution_count": 4,
   "metadata": {
    "ExecuteTime": {
     "end_time": "2019-10-03T05:56:13.326169Z",
     "start_time": "2019-10-03T05:56:08.289964Z"
    }
   },
   "outputs": [],
   "source": [
    "import warnings\n",
    "\n",
    "import matplotlib.pyplot as plt\n",
    "import numpy as np\n",
    "import pandas as pd\n",
    "import seaborn as sns\n",
    "\n",
    "warnings.filterwarnings('ignore')\n",
    "\n",
    "%matplotlib inline"
   ]
  },
  {
   "cell_type": "code",
   "execution_count": 2,
   "metadata": {
    "ExecuteTime": {
     "end_time": "2019-10-03T05:48:32.269905Z",
     "start_time": "2019-10-03T05:48:29.711715Z"
    }
   },
   "outputs": [],
   "source": [
    "from sklearn.model_selection import KFold\n",
    "from sklearn.datasets import load_breast_cancer\n",
    "cancer = load_breast_cancer()"
   ]
  },
  {
   "cell_type": "markdown",
   "metadata": {},
   "source": [
    "腫瘍データを行列X2, 診断データをベクトルy2, に格納"
   ]
  },
  {
   "cell_type": "code",
   "execution_count": 7,
   "metadata": {
    "ExecuteTime": {
     "end_time": "2019-10-03T05:58:53.496833Z",
     "start_time": "2019-10-03T05:58:53.491849Z"
    }
   },
   "outputs": [],
   "source": [
    "X = cancer.data\n",
    "y = cancer.target\n",
    "y = np.array(y)"
   ]
  },
  {
   "cell_type": "markdown",
   "metadata": {},
   "source": [
    "トレーニング用とテスト用に分割し、検証"
   ]
  },
  {
   "cell_type": "code",
   "execution_count": 29,
   "metadata": {
    "ExecuteTime": {
     "end_time": "2019-10-03T06:54:14.691683Z",
     "start_time": "2019-10-03T06:54:14.661759Z"
    }
   },
   "outputs": [
    {
     "name": "stdout",
     "output_type": "stream",
     "text": [
      "Train Acc: 0.968\n",
      "Test Acc: 0.954\n",
      "Train Acc: 0.975\n",
      "Test Acc: 0.930\n"
     ]
    }
   ],
   "source": [
    "from sklearn.linear_model import LogisticRegression\n",
    "kf = KFold(n_splits=2,shuffle=True,random_state=0)\n",
    "for train_index, test_index in kf.split(X, y):\n",
    "    X_train, X_test = X[train_index], X[test_index]\n",
    "    y_train, y_test = y[train_index], y[test_index]\n",
    "    logistic_regression = LogisticRegression(C=1.0)\n",
    "\n",
    "    logistic_regression.fit(X_train, y_train)\n",
    "    print(f'Train Acc: {logistic_regression.score(X_train, y_train):.3f}')\n",
    "    print(f'Test Acc: {logistic_regression.score(X_test, y_test):.3f}')"
   ]
  },
  {
   "cell_type": "markdown",
   "metadata": {},
   "source": [
    "# 課題J-2: 交差検証のバリエーション(StratifiedKFold)\n",
    "## 交差検証のバリエーションStratifiedKFoldの説明\n",
    "\n",
    "<br>\n",
    "\n",
    "例えば、正解、不正解の2クラス分類問題で正解の割合が80%、不正解の割合が20%だった時、KFoldはその割合を無視して訓練、テストに分割するが、StratifiedKFoldはその割合を保ったまま、分割する。\n",
    "\n",
    "![](https://cdn-ak.f.st-hatena.com/images/fotolife/u/upura/20181204/20181204214946.png)\n",
    "\n",
    "☝の図ではdassの茶色、黄色、青が均等な割合で分かれるように訓練 ( 青 )、テスト ( 茶 ) でデータセットを分割している。"
   ]
  },
  {
   "cell_type": "markdown",
   "metadata": {},
   "source": [
    "## 実際のデータに対してのStratifiedKFoldの実装"
   ]
  },
  {
   "cell_type": "code",
   "execution_count": 31,
   "metadata": {
    "ExecuteTime": {
     "end_time": "2019-10-03T06:56:51.000265Z",
     "start_time": "2019-10-03T06:56:50.970346Z"
    }
   },
   "outputs": [
    {
     "name": "stdout",
     "output_type": "stream",
     "text": [
      "Train Acc: 0.944\n",
      "Test Acc: 0.954\n",
      "Train Acc: 0.958\n",
      "Test Acc: 0.940\n"
     ]
    }
   ],
   "source": [
    "from sklearn.model_selection import StratifiedKFold\n",
    "skf = StratifiedKFold(n_splits=2,shuffle=True,random_state=0)\n",
    "for train_index, test_index in skf.split(X, y):\n",
    "    X_train, X_test = X[train_index], X[test_index]\n",
    "    y_train, y_test = y[train_index], y[test_index]\n",
    "    logistic_regression = LogisticRegression(C=1.0)\n",
    "\n",
    "    logistic_regression.fit(X_train, y_train)\n",
    "    print(f'Train Acc: {logistic_regression.score(X_train, y_train):.3f}')\n",
    "    print(f'Test Acc: {logistic_regression.score(X_test, y_test):.3f}')"
   ]
  },
  {
   "cell_type": "markdown",
   "metadata": {},
   "source": [
    "# 課題J-2: 交差検証のバリエーション(GroupKFold)\n",
    "## 交差検証のバリエーションGroupKFoldの説明\n",
    "\n",
    "<br>\n",
    "\n",
    "例えば、正解、不正解の2クラス分類問題で正解の割合が80%、不正解の割合が20%だった時、KFoldはその割合を無視して訓練、テストに分割するが、StratifiedKFoldはその割合を保ったまま、分割する。\n",
    "\n",
    "![](https://cdn-ak.f.st-hatena.com/images/fotolife/u/upura/20181204/20181204214913.png)\n",
    "\n",
    "☝の図ではdassの茶色、黄色、青の選び方が重ならないように分割している。"
   ]
  },
  {
   "cell_type": "markdown",
   "metadata": {},
   "source": [
    "## 実際のデータに対してのGroupKFoldの実装"
   ]
  },
  {
   "cell_type": "code",
   "execution_count": 38,
   "metadata": {
    "ExecuteTime": {
     "end_time": "2019-10-03T07:32:06.295319Z",
     "start_time": "2019-10-03T07:32:06.265398Z"
    },
    "scrolled": true
   },
   "outputs": [
    {
     "name": "stdout",
     "output_type": "stream",
     "text": [
      "Train Acc: 0.967\n",
      "Test Acc: 0.952\n",
      "Train Acc: 0.949\n",
      "Test Acc: 0.949\n"
     ]
    }
   ],
   "source": [
    "import random\n",
    "from sklearn.model_selection import GroupKFold\n",
    "groups = []\n",
    "for i in range(len(y)):\n",
    "    a = random.random()\n",
    "    groups.append(int(round(a, 0)))\n",
    "\n",
    "group_kfold = GroupKFold(n_splits=2)\n",
    "for train_index, test_index in group_kfold.split(X, y, groups):\n",
    "    X_train, X_test = X[train_index], X[test_index]\n",
    "    y_train, y_test = y[train_index], y[test_index]\n",
    "    logistic_regression = LogisticRegression(C=1.0)\n",
    "\n",
    "    logistic_regression.fit(X_train, y_train)\n",
    "    print(f'Train Acc: {logistic_regression.score(X_train, y_train):.3f}')\n",
    "    print(f'Test Acc: {logistic_regression.score(X_test, y_test):.3f}')"
   ]
  },
  {
   "cell_type": "markdown",
   "metadata": {},
   "source": [
    "おわり"
   ]
  }
 ],
 "metadata": {
  "kernelspec": {
   "display_name": "Python 3",
   "language": "python",
   "name": "python3"
  },
  "language_info": {
   "codemirror_mode": {
    "name": "ipython",
    "version": 3
   },
   "file_extension": ".py",
   "mimetype": "text/x-python",
   "name": "python",
   "nbconvert_exporter": "python",
   "pygments_lexer": "ipython3",
   "version": "3.7.4"
  },
  "toc": {
   "base_numbering": 1,
   "nav_menu": {},
   "number_sections": true,
   "sideBar": true,
   "skip_h1_title": false,
   "title_cell": "Table of Contents",
   "title_sidebar": "Contents",
   "toc_cell": false,
   "toc_position": {},
   "toc_section_display": true,
   "toc_window_display": false
  },
  "varInspector": {
   "cols": {
    "lenName": 16,
    "lenType": 16,
    "lenVar": 40
   },
   "kernels_config": {
    "python": {
     "delete_cmd_postfix": "",
     "delete_cmd_prefix": "del ",
     "library": "var_list.py",
     "varRefreshCmd": "print(var_dic_list())"
    },
    "r": {
     "delete_cmd_postfix": ") ",
     "delete_cmd_prefix": "rm(",
     "library": "var_list.r",
     "varRefreshCmd": "cat(var_dic_list()) "
    }
   },
   "types_to_exclude": [
    "module",
    "function",
    "builtin_function_or_method",
    "instance",
    "_Feature"
   ],
   "window_display": false
  }
 },
 "nbformat": 4,
 "nbformat_minor": 2
}
